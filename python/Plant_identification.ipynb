{
  "nbformat": 4,
  "nbformat_minor": 0,
  "metadata": {
    "colab": {
      "name": " Plant identification ",
      "provenance": [],
      "collapsed_sections": [],
      "toc_visible": true
    },
    "kernelspec": {
      "name": "python3",
      "display_name": "Python 3"
    },
    "accelerator": "GPU"
  },
  "cells": [
    {
      "cell_type": "markdown",
      "metadata": {
        "id": "VXCQJ29_yb9x"
      },
      "source": [
        "### <b>식물 이미지 분류 학습</b>\n",
        "\n",
        "* 순서\n",
        "    1. 이미지 크롤링(image crawling) 혹은 크롤링 라이브러리\n",
        "    2. 전이 학습(transfer learning)\n",
        "    3. 웹 API 개발\n",
        "* <b>식물</b> 분류기(classifier)\n",
        "* 과정\n",
        "    * 데이터 수집/정제\n",
        "    * 인공지능 모델 학습\n",
        "    * 학습된 모델 배포\n",
        "* 한글 폰트 설치 이후에 <b>[런타임] - [런타임 다시 시작]</b>을 수행"
      ]
    },
    {
      "cell_type": "code",
      "metadata": {
        "id": "km0yMQoGgGRc",
        "colab": {
          "base_uri": "https://localhost:8080/"
        },
        "outputId": "13b98280-5ef6-4660-86af-54af03434a45"
      },
      "source": [
        "# 한글 폰트 설치하기 (꼭! 설치가 완료되면 [런타임 다시 시작]을 누르고 다시 실행하기)\n",
        "!apt install fonts-nanum -y\n",
        "\n",
        "import matplotlib\n",
        "import matplotlib.pyplot as plt\n",
        "import matplotlib.font_manager as fm\n",
        "\n",
        "# 한글 폰트 설정하기\n",
        "fontpath = '/usr/share/fonts/truetype/nanum/NanumBarunGothic.ttf'\n",
        "font = fm.FontProperties(fname=fontpath, size=10)\n",
        "plt.rc('font', family='NanumBarunGothic')\n",
        "matplotlib.font_manager._rebuild()"
      ],
      "execution_count": 1,
      "outputs": [
        {
          "output_type": "stream",
          "text": [
            "Reading package lists... Done\n",
            "Building dependency tree       \n",
            "Reading state information... Done\n",
            "fonts-nanum is already the newest version (20170925-1).\n",
            "0 upgraded, 0 newly installed, 0 to remove and 31 not upgraded.\n"
          ],
          "name": "stdout"
        }
      ]
    },
    {
      "cell_type": "code",
      "metadata": {
        "colab": {
          "base_uri": "https://localhost:8080/"
        },
        "id": "gj6p24YpIl07",
        "outputId": "68a38f54-751f-4493-b38a-906f53e70fd2"
      },
      "source": [
        "# 필요한 라이브러리 설치하기\n",
        "!git clone https://github.com/ndb796/bing_image_downloader"
      ],
      "execution_count": 2,
      "outputs": [
        {
          "output_type": "stream",
          "text": [
            "fatal: destination path 'bing_image_downloader' already exists and is not an empty directory.\n"
          ],
          "name": "stdout"
        }
      ]
    },
    {
      "cell_type": "markdown",
      "metadata": {
        "id": "VCwH2ajVzDHM"
      },
      "source": [
        "#### <b>1. 이미지 크롤링을 활용한 학습 이미지 수집</b>\n",
        "\n",
        "* 수집한 이미지를 저장하기 위한 폴더를 생성하고, 필요한 함수를 정의합니다."
      ]
    },
    {
      "cell_type": "code",
      "metadata": {
        "id": "O3az4in0AR5R"
      },
      "source": [
        "import os\n",
        "import shutil\n",
        "from bing_image_downloader.bing_image_downloader import downloader\n",
        "\n",
        "\n",
        "directory_list = [\n",
        "    './custom_dataset/train/',\n",
        "    './custom_dataset/test/',\n",
        "]\n",
        "\n",
        "# 초기 디렉토리 만들기\n",
        "for directory in directory_list:\n",
        "    if not os.path.isdir(directory):\n",
        "        os.makedirs(directory)\n",
        "\n",
        "# 수집한 이미지를 학습 데이터와 평가 데이터로 구분하는 함수\n",
        "def dataset_split(query, train_cnt):\n",
        "    # 학습 및 평가 데이터셋 디렉토리 만들기\n",
        "    for directory in directory_list:\n",
        "        if not os.path.isdir(directory + '/' + query):\n",
        "            os.makedirs(directory + '/' + query)\n",
        "    # 학습 및 평가 데이터셋 준비하기\n",
        "    cnt = 0\n",
        "    for file_name in os.listdir(query):\n",
        "        if cnt < train_cnt:\n",
        "            print(f'[Train Dataset] {file_name}')\n",
        "            shutil.move(query + '/' + file_name, './custom_dataset/train/' + query + '/' + file_name)\n",
        "        else:\n",
        "            print(f'[Test Dataset] {file_name}')\n",
        "            shutil.move(query + '/' + file_name, './custom_dataset/test/' + query + '/' + file_name)\n",
        "        cnt += 1\n",
        "    shutil.rmtree(query)"
      ],
      "execution_count": 3,
      "outputs": []
    },
    {
      "cell_type": "markdown",
      "metadata": {
        "id": "jYz-8H4JY66i"
      },
      "source": [
        "* <b>장미</b> 이미지 크롤링을 진행하고 데이터셋을 구축합니다."
      ]
    },
    {
      "cell_type": "code",
      "metadata": {
        "colab": {
          "base_uri": "https://localhost:8080/"
        },
        "id": "Jm1ucFykGhwk",
        "outputId": "60d43024-1e48-4621-fee1-bea7d8c6f843"
      },
      "source": [
        "query = '장미'\n",
        "downloader.download(query, limit=40,  output_dir='./', adult_filter_off=True, force_replace=False, timeout=60)\n",
        "dataset_split(query, 30)"
      ],
      "execution_count": 4,
      "outputs": [
        {
          "output_type": "stream",
          "text": [
            "[Info] Indexing page: 1\n",
            "[Info] Indexed 12 Images on Page 1.\n",
            "===============================================\n",
            "#1 이미지 다운로드 (http://blogfiles.naver.net/20120307_275/yhb5538_13311007702345aL61_JPEG/odfkyzhlyw.jpg)\n",
            "#1 파일 다운로드가 완료되었습니다.\n",
            "#2 이미지 다운로드 (https://t1.daumcdn.net/cfile/tistory/99842D4E5B03DB7219)\n",
            "#2 파일 다운로드가 완료되었습니다.\n",
            "#3 이미지 다운로드 (http://wallpapersdsc.net/wp-content/uploads/2016/09/Red-Flower-Wallpapers-HD.jpg)\n",
            "#3 파일 다운로드가 완료되었습니다.\n",
            "#4 이미지 다운로드 (http://cfile203.uf.daum.net/image/142018014CB6F9C0157C07)\n",
            "#4 파일 다운로드가 완료되었습니다.\n",
            "#5 이미지 다운로드 (https://cdn.pixabay.com/photo/2018/07/28/05/07/rose-of-sharon-3567356_640.jpg)\n",
            "#5 파일 다운로드가 완료되었습니다.\n",
            "#6 이미지 다운로드 (https://t1.daumcdn.net/liveboard/interstella-story/ad5d0f779f1d4103815d6dc05aaff192.jpg)\n",
            "#6 파일 다운로드가 완료되었습니다.\n",
            "#7 이미지 다운로드 (https://www.nemopan.com/files/attach/images/16448/434/137/001/124126473396708.jpg)\n",
            "#7 파일 다운로드가 완료되었습니다.\n",
            "#8 이미지 다운로드 (https://www.nemopan.com/files/attach/images/6294/496/450/012/e7c302a52b70cd420c99b429725a8107.jpg)\n",
            "#8 파일 다운로드가 완료되었습니다.\n",
            "#9 이미지 다운로드 (https://i.pinimg.com/736x/78/65/b7/7865b79d4c75b2364caf52fd1c039638--detective-theme-scena.jpg)\n",
            "#9 파일 다운로드가 완료되었습니다.\n",
            "#10 이미지 다운로드 (https://t1.daumcdn.net/cfile/tistory/99A7A2405DE455471F)\n",
            "#10 파일 다운로드가 완료되었습니다.\n",
            "#11 이미지 다운로드 (https://t1.daumcdn.net/cfile/tistory/99BA973B5BB4A8D63A)\n",
            "#11 파일 다운로드가 완료되었습니다.\n",
            "#12 이미지 다운로드 (https://t1.daumcdn.net/cfile/tistory/99BDF6415DE5EE2F2F)\n",
            "#12 파일 다운로드가 완료되었습니다.\n",
            "[Info] Done. Downloaded 12 images.\n",
            "[Info] Indexing page: 2\n",
            "[Info] Indexed 12 Images on Page 2.\n",
            "===============================================\n",
            "#13 이미지 다운로드 (https://i.ytimg.com/vi/21qxX45J0w0/maxresdefault.jpg)\n",
            "#13 파일 다운로드가 완료되었습니다.\n",
            "#14 이미지 다운로드 (https://dimg.donga.com/a/600/0/90/5/wps/SPORTS/IMAGE/2017/09/28/86571719.2.jpg)\n",
            "#14 파일 다운로드가 완료되었습니다.\n",
            "#15 이미지 다운로드 (https://www.nemopan.com/files/attach/images/2580/134402/481edc9f81cf4.jpg)\n",
            "#15 파일 다운로드가 완료되었습니다.\n",
            "#16 이미지 다운로드 (https://t1.daumcdn.net/cfile/tistory/1862F9454FF10B221C)\n",
            "#16 파일 다운로드가 완료되었습니다.\n",
            "#17 이미지 다운로드 (https://i.pinimg.com/736x/0f/49/74/0f49748bf263f69ba5ce7341abb99bd2.jpg)\n",
            "#17 파일 다운로드가 완료되었습니다.\n",
            "#18 이미지 다운로드 (http://web.yonsei.ac.kr/ibody/etc/universe/mil133_l.jpg)\n",
            "#18 파일 다운로드가 완료되었습니다.\n",
            "#19 이미지 다운로드 (http://photo.newsen.com/news_photo/2016/10/01/201610012128271810_1.jpg)\n",
            "#19 파일 다운로드가 완료되었습니다.\n",
            "#20 이미지 다운로드 (https://t1.daumcdn.net/cfile/tistory/996DEE415DE5EE2731)\n",
            "#20 파일 다운로드가 완료되었습니다.\n",
            "#21 이미지 다운로드 (https://www.italymagazine.com/sites/default/files/feature-story/leader/florence_nightingale_fluid_small.jpg)\n",
            "#21 파일 다운로드가 완료되었습니다.\n",
            "#22 이미지 다운로드 (https://www.nizform.com/preview_img/69322_1360300539.jpg)\n",
            "[Info] Issue getting: https://www.nizform.com/preview_img/69322_1360300539.jpg\n",
            "[Error] <urlopen error [SSL: CERTIFICATE_VERIFY_FAILED] certificate verify failed: unable to get local issuer certificate (_ssl.c:1091)>\n",
            "#22 이미지 다운로드 (https://cdn.allwallpaper.in/wallpapers/1920x1080/10799/outer-space-red-1920x1080-wallpaper.jpg)\n",
            "#22 파일 다운로드가 완료되었습니다.\n",
            "#23 이미지 다운로드 (http://1.bp.blogspot.com/-RPnO8eBFm2w/UZ4XkUgPpUI/AAAAAAAAPJg/Y1XUSODBXRM/s640/red-rose-2eee.jpg)\n",
            "#23 파일 다운로드가 완료되었습니다.\n",
            "[Info] Done. Downloaded 23 images.\n",
            "[Info] Indexing page: 3\n",
            "[Info] Indexed 12 Images on Page 3.\n",
            "===============================================\n",
            "#24 이미지 다운로드 (http://cfile7.uf.tistory.com/image/0106374550ACFF1F09E76C)\n",
            "#24 파일 다운로드가 완료되었습니다.\n",
            "#25 이미지 다운로드 (https://i.ytimg.com/vi/RV4SR36_jwg/hqdefault.jpg)\n",
            "#25 파일 다운로드가 완료되었습니다.\n",
            "#26 이미지 다운로드 (https://i.pinimg.com/736x/20/5e/47/205e4715d80a8ceee03bf51ecb36ea2b.jpg)\n",
            "#26 파일 다운로드가 완료되었습니다.\n",
            "#27 이미지 다운로드 (http://blogthumb2.naver.net/20130317_145/shelee103_1363528816912ffrfN_JPEG/1363528815133_20130316120736948.jpg?type=w2)\n",
            "[Error] Invalid image, not saving http://blogthumb2.naver.net/20130317_145/shelee103_1363528816912ffrfN_JPEG/1363528815133_20130316120736948.jpg?type=w2\n",
            "[Info] Issue getting: http://blogthumb2.naver.net/20130317_145/shelee103_1363528816912ffrfN_JPEG/1363528815133_20130316120736948.jpg?type=w2\n",
            "[Error] No active exception to reraise\n",
            "#27 이미지 다운로드 (http://img.theqoo.net/proxy.php?url=i.imgur.com/FIOHaQ8.jpg)\n",
            "#27 파일 다운로드가 완료되었습니다.\n",
            "#28 이미지 다운로드 (http://misistemasolar.com/wp-content/uploads/2017/11/constelación-de-unicornio-9.jpg)\n",
            "[Info] Issue getting: http://misistemasolar.com/wp-content/uploads/2017/11/constelación-de-unicornio-9.jpg\n",
            "[Error] 'ascii' codec can't encode character '\\xf3' in position 42: ordinal not in range(128)\n",
            "#28 이미지 다운로드 (https://t1.daumcdn.net/cfile/tistory/2721604954B3578A2F)\n",
            "#28 파일 다운로드가 완료되었습니다.\n",
            "#29 이미지 다운로드 (http://www.lovethispic.com/uploaded_images/117810-Blossoming-White-Rose.gif?1)\n",
            "#29 파일 다운로드가 완료되었습니다.\n",
            "#30 이미지 다운로드 (https://www.bing.com/th/id/OGC.73e8ebf2e45c7a4f19ae00821291b662?pid=1.7&amp;rurl=http%3a%2f%2fwww.lovethispic.com%2fuploaded_images%2f117810-Blossoming-White-Rose.gif%3f1&amp;ehk=YnaPtYMC2F0c1k7mDVRUsPY04yMFo0m22zLd%2bHGtVBY%3d)\n",
            "[Info] Issue getting: https://www.bing.com/th/id/OGC.73e8ebf2e45c7a4f19ae00821291b662?pid=1.7&amp;rurl=http%3a%2f%2fwww.lovethispic.com%2fuploaded_images%2f117810-Blossoming-White-Rose.gif%3f1&amp;ehk=YnaPtYMC2F0c1k7mDVRUsPY04yMFo0m22zLd%2bHGtVBY%3d\n",
            "[Error] HTTP Error 404: Not Found\n",
            "#30 이미지 다운로드 (https://dimg.donga.com/a/510/0/90/5/wps/SPORTS/IMAGE/2015/12/23/75533787.2.jpg)\n",
            "#30 파일 다운로드가 완료되었습니다.\n",
            "#31 이미지 다운로드 (https://www.nemopan.com/files/attach/images/6296/147/209/008/닐패트릭해리스_031.jpg)\n",
            "[Info] Issue getting: https://www.nemopan.com/files/attach/images/6296/147/209/008/닐패트릭해리스_031.jpg\n",
            "[Error] 'ascii' codec can't encode characters in position 42-48: ordinal not in range(128)\n",
            "#31 이미지 다운로드 (https://i.pinimg.com/736x/3c/3b/b4/3c3bb449a312f524ace5f150bfee80c0.jpg?b=t)\n",
            "#31 파일 다운로드가 완료되었습니다.\n",
            "[Info] Done. Downloaded 31 images.\n",
            "[Info] Indexing page: 4\n",
            "[Info] Indexed 10 Images on Page 4.\n",
            "===============================================\n",
            "#32 이미지 다운로드 (https://i.ytimg.com/vi/5LcpLMOZxY4/maxresdefault.jpg)\n",
            "#32 파일 다운로드가 완료되었습니다.\n",
            "#33 이미지 다운로드 (http://img.insight.co.kr/static/2017/03/14/700/31W0591793SW4K0O2U7E.jpg)\n",
            "#33 파일 다운로드가 완료되었습니다.\n",
            "#34 이미지 다운로드 (https://i.ytimg.com/vi/B__fL-a0QLM/maxresdefault.jpg)\n",
            "#34 파일 다운로드가 완료되었습니다.\n",
            "#35 이미지 다운로드 (https://i.ytimg.com/vi/Nn3noWOTyo0/maxresdefault.jpg)\n",
            "#35 파일 다운로드가 완료되었습니다.\n",
            "#36 이미지 다운로드 (https://i.pinimg.com/736x/95/8a/b2/958ab2a56a3d9fbbaf60d63a6d6ac029.jpg)\n",
            "#36 파일 다운로드가 완료되었습니다.\n",
            "#37 이미지 다운로드 (http://dimg.donga.com/a/510/0/90/5/wps/SPORTS/IMAGE/2013/12/06/59375839.2.jpg)\n",
            "#37 파일 다운로드가 완료되었습니다.\n",
            "#38 이미지 다운로드 (http://cfile214.uf.daum.net/image/20593F384DEE159F084DBC)\n",
            "#38 파일 다운로드가 완료되었습니다.\n",
            "#39 이미지 다운로드 (https://i.ytimg.com/vi/8YMgbtX7FZ8/maxresdefault.jpg)\n",
            "#39 파일 다운로드가 완료되었습니다.\n",
            "#40 이미지 다운로드 (https://c2.staticflickr.com/4/3372/3278528540_ba4e43b8e9_b.jpg)\n",
            "#40 파일 다운로드가 완료되었습니다.\n",
            "===============================================\n",
            "[Info] Done. Downloaded 40 images.\n",
            "[Train Dataset] image_7.jpg\n",
            "[Train Dataset] image_9.jpg\n",
            "[Train Dataset] image_26.jpg\n",
            "[Train Dataset] image_14.jpg\n",
            "[Train Dataset] image_2.jpg\n",
            "[Train Dataset] image_24.jpg\n",
            "[Train Dataset] image_38.jpg\n",
            "[Train Dataset] image_25.jpg\n",
            "[Train Dataset] image_11.jpg\n",
            "[Train Dataset] image_28.jpg\n",
            "[Train Dataset] image_16.jpg\n",
            "[Train Dataset] image_8.jpg\n",
            "[Train Dataset] image_31.jpg\n",
            "[Train Dataset] image_33.jpg\n",
            "[Train Dataset] image_36.jpg\n",
            "[Train Dataset] image_29.gif\n",
            "[Train Dataset] image_10.jpg\n",
            "[Train Dataset] image_23.jpg\n",
            "[Train Dataset] image_40.jpg\n",
            "[Train Dataset] image_1.jpg\n",
            "[Train Dataset] image_5.jpg\n",
            "[Train Dataset] image_18.jpg\n",
            "[Train Dataset] image_27.jpg\n",
            "[Train Dataset] image_37.jpg\n",
            "[Train Dataset] image_6.jpg\n",
            "[Train Dataset] image_32.jpg\n",
            "[Train Dataset] image_30.jpg\n",
            "[Train Dataset] image_34.jpg\n",
            "[Train Dataset] image_39.jpg\n",
            "[Train Dataset] image_13.jpg\n",
            "[Test Dataset] image_22.jpg\n",
            "[Test Dataset] image_12.jpg\n",
            "[Test Dataset] image_21.jpg\n",
            "[Test Dataset] image_20.jpg\n",
            "[Test Dataset] image_19.jpg\n",
            "[Test Dataset] image_4.jpg\n",
            "[Test Dataset] image_15.jpg\n",
            "[Test Dataset] image_35.jpg\n",
            "[Test Dataset] image_3.jpg\n",
            "[Test Dataset] image_17.jpg\n"
          ],
          "name": "stdout"
        }
      ]
    },
    {
      "cell_type": "markdown",
      "metadata": {
        "id": "w2fQOykH41eG"
      },
      "source": [
        "#### <b>2. PyTorch를 이용한 전이 학습(Transfer Learning)</b>\n",
        "\n",
        "* 학습을 위해 필요한 라이브러리를 불러옵니다."
      ]
    },
    {
      "cell_type": "markdown",
      "metadata": {
        "id": "7xFhGpZiBaJo"
      },
      "source": [
        "* 데이터셋을 불러옵니다."
      ]
    },
    {
      "cell_type": "markdown",
      "metadata": {
        "id": "pHmitYs3BfCf"
      },
      "source": [
        "* 간단히 이미지를 시각화해 봅시다."
      ]
    },
    {
      "cell_type": "markdown",
      "metadata": {
        "id": "SfX1atx-Bh2l"
      },
      "source": [
        "* 학습할 CNN 딥러닝 모델 객체를 초기화합니다."
      ]
    },
    {
      "cell_type": "markdown",
      "metadata": {
        "id": "c06wJhJ9BmWV"
      },
      "source": [
        "* 학습을 진행합니다."
      ]
    },
    {
      "cell_type": "markdown",
      "metadata": {
        "id": "MLM2YvrPLaRj"
      },
      "source": [
        "* 학습된 모델을 평가합니다."
      ]
    },
    {
      "cell_type": "markdown",
      "metadata": {
        "id": "105aRPchgxUl"
      },
      "source": [
        "#### <b>3. 분류 모델 API 개발</b>\n",
        "\n",
        "* 학습된 분류 모델을 다른 사람이 사용할 수 있도록 API를 개발하여 배포합니다.\n",
        "* 먼저 한 장의 이미지를 파일로부터 읽어와 분류 결과를 반환하는 기능을 작성합니다."
      ]
    },
    {
      "cell_type": "code",
      "metadata": {
        "id": "fIA4wgsbf3GY"
      },
      "source": [
        "# 테스트용 이미지 다운로드하기\n",
        "!wget https://upload.wikimedia.org/wikipedia/commons/f/f1/Don_Lee_by_Gage_Skidmore.jpg -O test_image.jpg"
      ],
      "execution_count": null,
      "outputs": []
    },
    {
      "cell_type": "code",
      "metadata": {
        "id": "Os4YudlBY47G"
      },
      "source": [
        "from PIL import Image\n",
        "\n",
        "\n",
        "image = Image.open('test_image.jpg')\n",
        "image = transforms_test(image).unsqueeze(0).to(device)\n",
        "\n",
        "with torch.no_grad():\n",
        "    outputs = model(image)\n",
        "    _, preds = torch.max(outputs, 1)\n",
        "    imshow(image.cpu().data[0], title='예측 결과: ' + class_names[preds[0]])"
      ],
      "execution_count": null,
      "outputs": []
    },
    {
      "cell_type": "markdown",
      "metadata": {
        "id": "tzbLpVgWixqu"
      },
      "source": [
        "* 웹 API 개방을 위해 <b>Ngrok</b> 서비스를 이용합니다.\n",
        "* API 기능 제공을 위해 <b>Flask 프레임워크</b>를 사용합니다."
      ]
    },
    {
      "cell_type": "code",
      "metadata": {
        "id": "YLFqO9cpSmFj"
      },
      "source": [
        "# 필요한 라이브러리 설치하기\n",
        "!pip install flask-ngrok"
      ],
      "execution_count": null,
      "outputs": []
    },
    {
      "cell_type": "code",
      "metadata": {
        "id": "OlqhcM1ZXcro"
      },
      "source": [
        "import io\n",
        "from flask_ngrok import run_with_ngrok\n",
        "from flask import Flask, jsonify, request\n",
        "\n",
        "\n",
        "# 이미지를 읽어 결과를 반환하는 함수\n",
        "def get_prediction(image_bytes):\n",
        "    image = Image.open(io.BytesIO(image_bytes))\n",
        "    image = transforms_test(image).unsqueeze(0).to(device)\n",
        "\n",
        "    with torch.no_grad():\n",
        "        outputs = model(image)\n",
        "        _, preds = torch.max(outputs, 1)\n",
        "        imshow(image.cpu().data[0], title='예측 결과: ' + class_names[preds[0]])\n",
        "\n",
        "    return class_names[preds[0]]\n",
        "\n",
        "\n",
        "app = Flask(__name__)\n",
        "\n",
        "\n",
        "@app.route('/', methods=['POST'])\n",
        "def predict():\n",
        "    if request.method == 'POST':\n",
        "        # 이미지 바이트 데이터 받아오기\n",
        "        file = request.files['file']\n",
        "        image_bytes = file.read()\n",
        "\n",
        "        # 분류 결과 확인 및 클라이언트에게 결과 반환\n",
        "        class_name = get_prediction(image_bytes=image_bytes)\n",
        "        print(\"결과:\", {'class_name': class_name})\n",
        "        return jsonify({'class_name': class_name})"
      ],
      "execution_count": null,
      "outputs": []
    },
    {
      "cell_type": "markdown",
      "metadata": {
        "id": "IK1R-B4HpL76"
      },
      "source": [
        "* API를 개방할 수 있으며 실행할 때마다 서버의 주소가 변경됩니다.\n",
        "* 서버 주소를 정확히 확인할 필요가 있습니다."
      ]
    },
    {
      "cell_type": "code",
      "metadata": {
        "id": "wzrf6fbDaARx"
      },
      "source": [
        "run_with_ngrok(app)\n",
        "app.run()"
      ],
      "execution_count": null,
      "outputs": []
    },
    {
      "cell_type": "markdown",
      "metadata": {
        "id": "0HcDhd8SjwSj"
      },
      "source": [
        "* 클라이언트 테스트 방법\n",
        "\n",
        "<pre>\n",
        "curl -X POST -F file=@{이미지 파일명} {Ngrok 서버 주소}\n",
        "</pre>\n",
        "\n",
        "* 사용 예시\n",
        "\n",
        "<pre>\n",
        "curl -X POST -F file=@dongseok.jpg http://c4cdb8de3a35.ngrok.io/\n",
        "</pre>\n",
        "\n",
        "* 이러한 방식으로 웹, 모바일, 게임 등의 소프트웨어 환경에서 API를 호출하는 방식으로 인공지능 앱을 개발할 수 있습니다."
      ]
    }
  ]
}